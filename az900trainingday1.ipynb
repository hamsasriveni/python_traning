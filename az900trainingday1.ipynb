{
  "nbformat": 4,
  "nbformat_minor": 0,
  "metadata": {
    "colab": {
      "name": "az900trainingday1.ipynb",
      "provenance": [],
      "collapsed_sections": [],
      "authorship_tag": "ABX9TyMFepYRv3LJW1ZFxZcZPInB",
      "include_colab_link": true
    },
    "kernelspec": {
      "name": "python3",
      "display_name": "Python 3"
    },
    "language_info": {
      "name": "python"
    }
  },
  "cells": [
    {
      "cell_type": "markdown",
      "metadata": {
        "id": "view-in-github",
        "colab_type": "text"
      },
      "source": [
        "<a href=\"https://colab.research.google.com/github/hamsasriveni/python_traning/blob/main/az900trainingday1.ipynb\" target=\"_parent\"><img src=\"https://colab.research.google.com/assets/colab-badge.svg\" alt=\"Open In Colab\"/></a>"
      ]
    },
    {
      "cell_type": "code",
      "execution_count": null,
      "metadata": {
        "colab": {
          "base_uri": "https://localhost:8080/"
        },
        "id": "pacnD3Fh4SYK",
        "outputId": "2ce01211-938b-4c8a-f599-03f0aceb3cc7"
      },
      "outputs": [
        {
          "output_type": "stream",
          "name": "stdout",
          "text": [
            "welcome to day first of programming\n"
          ]
        }
      ],
      "source": [
        "print(\"welcome to day first of programming\")"
      ]
    },
    {
      "cell_type": "code",
      "source": [
        "#this is demonstration of indent\n",
        "if 5>3:\n",
        "  print(\"yes condition holds\")"
      ],
      "metadata": {
        "colab": {
          "base_uri": "https://localhost:8080/"
        },
        "id": "g-Ki0FMl5xgH",
        "outputId": "8ddc3604-64b0-4b8f-f734-3db9ff43dede"
      },
      "execution_count": null,
      "outputs": [
        {
          "output_type": "stream",
          "name": "stdout",
          "text": [
            "yes condition holds\n"
          ]
        }
      ]
    },
    {
      "cell_type": "code",
      "source": [
        "\"\"\"this is multiline comment\n",
        "you can have multilline comments using triple cotes\n",
        "this is demo\"\"\"\n",
        "print(\"multi comment\")"
      ],
      "metadata": {
        "colab": {
          "base_uri": "https://localhost:8080/"
        },
        "id": "HJwnn2Fy6H5L",
        "outputId": "58af2175-d926-45aa-8b60-4e64c3abc4fa"
      },
      "execution_count": null,
      "outputs": [
        {
          "output_type": "stream",
          "name": "stdout",
          "text": [
            "multi comment\n"
          ]
        }
      ]
    },
    {
      "cell_type": "code",
      "source": [
        "name=input(\"enter your name:\")\n",
        "print(\"your name is:\",name)"
      ],
      "metadata": {
        "colab": {
          "base_uri": "https://localhost:8080/"
        },
        "id": "KFpwYsOG6gSA",
        "outputId": "b662d8ad-4634-4f92-820f-49084d273b0b"
      },
      "execution_count": null,
      "outputs": [
        {
          "output_type": "stream",
          "name": "stdout",
          "text": [
            "enter your name:hamsa\n",
            "your name is: hamsa\n"
          ]
        }
      ]
    },
    {
      "cell_type": "code",
      "source": [
        "name=input(\"enter your name:\")\n",
        "print(\"your name is:\",name)\n",
        "dob=input(\"enter your dob:\")\n",
        "print(\"your dob is:\",dob)"
      ],
      "metadata": {
        "colab": {
          "base_uri": "https://localhost:8080/"
        },
        "id": "ol4D6gP568C_",
        "outputId": "970028b5-f2eb-462b-d90e-93021741fd34"
      },
      "execution_count": null,
      "outputs": [
        {
          "output_type": "stream",
          "name": "stdout",
          "text": [
            "enter your name:hamsa\n",
            "your name is: hamsa\n",
            "enter your dob:04032003\n",
            "your dob is: 04032003\n"
          ]
        }
      ]
    },
    {
      "cell_type": "code",
      "source": [
        "a=int(input(\"enter any number a\"))\n",
        "b=int(input(\"enter any number b\"))\n",
        "print(\"value of a before swapping:\",a)\n",
        "print(\"value of b before swapping:\",b)\n",
        "b=a+b\n",
        "a=b-a\n",
        "b=b-a\n",
        "print(\"value of a after swapping:\",a)\n",
        "print(\"value of b after swapping:\",b)"
      ],
      "metadata": {
        "colab": {
          "base_uri": "https://localhost:8080/"
        },
        "id": "34H9K1NF78Al",
        "outputId": "b267e746-ee61-408d-fc29-bfae05799c89"
      },
      "execution_count": null,
      "outputs": [
        {
          "output_type": "stream",
          "name": "stdout",
          "text": [
            "enter any number a2\n",
            "enter any number b3\n",
            "value of a before swapping: 2\n",
            "value of b before swapping: 3\n",
            "value of a after swapping: 3\n",
            "value of b after swapping: 2\n"
          ]
        }
      ]
    },
    {
      "cell_type": "code",
      "source": [
        "#simple variable declaration using lower case and digit\n",
        "var2=2\n",
        "#snake  case variable declaration\n",
        "var_of_int_type=44\n",
        "#came case\n",
        "myName=\"Hamsa\"\n",
        "#capwords\n",
        "MyAge=19\n",
        "#macrocase\n",
        "COURSE='CSE'\n",
        "print(type(var2))\n",
        "print(type(var_of_int_type))\n",
        "print(type(myName))\n",
        "print(type(MyAge))\n",
        "print(type(COURSE))\n",
        "\n",
        "\n"
      ],
      "metadata": {
        "colab": {
          "base_uri": "https://localhost:8080/"
        },
        "id": "zd4qs91b-GSz",
        "outputId": "6787b35e-0ad4-4359-d7de-66a893e584ea"
      },
      "execution_count": null,
      "outputs": [
        {
          "output_type": "stream",
          "name": "stdout",
          "text": [
            "<class 'int'>\n",
            "<class 'int'>\n",
            "<class 'str'>\n",
            "<class 'int'>\n",
            "<class 'str'>\n"
          ]
        }
      ]
    },
    {
      "cell_type": "code",
      "source": [
        "x=1 #int\n",
        "y=2.4#float\n",
        "z=1j #complex\n",
        "#convert from int to float\n",
        "a=float(x)\n",
        "print(a)\n",
        "#convert from float to int\n",
        "b=int(y)\n",
        "print(b)\n",
        "#convert int to complex\n",
        "c=complex(x)\n",
        "print(c)\n",
        "print(type(a))\n",
        "print(type(b))\n",
        "print(type(a))"
      ],
      "metadata": {
        "colab": {
          "base_uri": "https://localhost:8080/"
        },
        "id": "e5QDo9q3__CD",
        "outputId": "57b5b9ea-6ed4-4935-b2a9-d49e2b232221"
      },
      "execution_count": null,
      "outputs": [
        {
          "output_type": "stream",
          "name": "stdout",
          "text": [
            "1.0\n",
            "2\n",
            "(1+0j)\n",
            "<class 'float'>\n",
            "<class 'int'>\n",
            "<class 'float'>\n"
          ]
        }
      ]
    },
    {
      "cell_type": "code",
      "source": [
        "str1='hi python'\n",
        "print(str1)\n",
        "str2=\"hi python\"\n",
        "print(str2)\n"
      ],
      "metadata": {
        "colab": {
          "base_uri": "https://localhost:8080/"
        },
        "id": "L37tUkul68kH",
        "outputId": "c1b34518-fccc-4f75-8cf9-7b37b34ab3e5"
      },
      "execution_count": null,
      "outputs": [
        {
          "output_type": "stream",
          "name": "stdout",
          "text": [
            "hi python\n",
            "hi python\n"
          ]
        }
      ]
    },
    {
      "cell_type": "code",
      "source": [
        "x='SR university'\n",
        "y='python training'\n",
        "print(x+'\\t$\\t'+y)\n",
        "print(x+'&'+y)"
      ],
      "metadata": {
        "colab": {
          "base_uri": "https://localhost:8080/"
        },
        "id": "twUWkBLtcy6F",
        "outputId": "64a3ff2d-fbd4-45ba-d8aa-cc87ae1f3b73"
      },
      "execution_count": null,
      "outputs": [
        {
          "output_type": "stream",
          "name": "stdout",
          "text": [
            "SR university\t$\tpython training\n",
            "SR university&python training\n"
          ]
        }
      ]
    },
    {
      "cell_type": "code",
      "source": [
        "#repeat the string\n",
        "print(x*2)"
      ],
      "metadata": {
        "colab": {
          "base_uri": "https://localhost:8080/"
        },
        "id": "m74XwW04dGHb",
        "outputId": "218f8f6c-2f66-4457-e818-ff9420b58383"
      },
      "execution_count": null,
      "outputs": [
        {
          "output_type": "stream",
          "name": "stdout",
          "text": [
            "SR universitySR university\n"
          ]
        }
      ]
    },
    {
      "cell_type": "code",
      "source": [
        "print(\"the value of x:\",x)\n",
        "print(\"the value of y:\",y)"
      ],
      "metadata": {
        "colab": {
          "base_uri": "https://localhost:8080/"
        },
        "id": "AZ6m3Z1wdL3h",
        "outputId": "3cab314d-78cb-419d-dd7d-65692d585be4"
      },
      "execution_count": null,
      "outputs": [
        {
          "output_type": "stream",
          "name": "stdout",
          "text": [
            "the value of x: SR university\n",
            "the value of y: python training\n"
          ]
        }
      ]
    },
    {
      "cell_type": "code",
      "source": [
        "#slicling operation\n",
        "print(x[2:7])\n",
        "print(x[-2:])\n",
        "print(x[:7])\n",
        "print(x[:-4])\n"
      ],
      "metadata": {
        "colab": {
          "base_uri": "https://localhost:8080/"
        },
        "id": "r0KH5e4AdaK5",
        "outputId": "cab5f0ab-0ea0-4dea-f7e0-8ceb14eedaa3"
      },
      "execution_count": null,
      "outputs": [
        {
          "output_type": "stream",
          "name": "stdout",
          "text": [
            " univ\n",
            "ty\n",
            "SR univ\n",
            "SR univer\n"
          ]
        }
      ]
    },
    {
      "cell_type": "code",
      "source": [
        "#string methods\n",
        "a=\"cloudthat tech\"\n",
        "b=\"45321\"\n",
        "print(\"this is capitalize method:\",a.capitalize())\n",
        "print(\"Is digit method\",a.isdigit())\n",
        "print(\"Is digit method\",b.isdigit())\n",
        "print(\"length method:\",len(a))\n",
        "str1=\"555\"\n",
        "a.replace('tech',str1)\n",
        "print(\"find method:\",a.find('tech'))"
      ],
      "metadata": {
        "colab": {
          "base_uri": "https://localhost:8080/"
        },
        "id": "32oxmRmweRMe",
        "outputId": "b9f5ab96-0279-411d-bbb0-d3616c48a9bb"
      },
      "execution_count": null,
      "outputs": [
        {
          "output_type": "stream",
          "name": "stdout",
          "text": [
            "this is capitalize method: Cloudthat tech\n",
            "Is digit method False\n",
            "Is digit method True\n",
            "length method: 14\n",
            "find method: 10\n"
          ]
        }
      ]
    },
    {
      "cell_type": "code",
      "source": [
        "#while loop\n",
        "a=int(input(\"enter any number\"))\n",
        "while(a<=20):\n",
        "  print(a)\n",
        "  a=a+4"
      ],
      "metadata": {
        "colab": {
          "base_uri": "https://localhost:8080/"
        },
        "id": "OC4APUE_rytI",
        "outputId": "97ff5d53-5cf8-411d-d458-19bd42d15257"
      },
      "execution_count": null,
      "outputs": [
        {
          "output_type": "stream",
          "name": "stdout",
          "text": [
            "enter any number4\n",
            "4\n",
            "8\n",
            "12\n",
            "16\n",
            "20\n"
          ]
        }
      ]
    },
    {
      "cell_type": "code",
      "source": [
        "a = 0\n",
        "for i in range(10):\n",
        "    a += 1\n",
        "    if a == 10:\n",
        "        break\n",
        "    print(\"The num has value:\", a)\n",
        "print(\"Out of loop\")"
      ],
      "metadata": {
        "colab": {
          "base_uri": "https://localhost:8080/"
        },
        "id": "0KDJH3kGtGVP",
        "outputId": "2afed552-8572-46d4-899d-03839c530909"
      },
      "execution_count": null,
      "outputs": [
        {
          "output_type": "stream",
          "name": "stdout",
          "text": [
            "The num has value: 1\n",
            "The num has value: 2\n",
            "The num has value: 3\n",
            "The num has value: 4\n",
            "The num has value: 5\n",
            "The num has value: 6\n",
            "The num has value: 7\n",
            "The num has value: 8\n",
            "The num has value: 9\n",
            "Out of loop\n"
          ]
        }
      ]
    },
    {
      "cell_type": "code",
      "source": [
        "print(\"hello\")"
      ],
      "metadata": {
        "colab": {
          "base_uri": "https://localhost:8080/"
        },
        "id": "2kFIR9rTv0De",
        "outputId": "1de84cad-662e-456d-d241-354179082b24"
      },
      "execution_count": null,
      "outputs": [
        {
          "output_type": "stream",
          "name": "stdout",
          "text": [
            "hello\n"
          ]
        }
      ]
    },
    {
      "cell_type": "code",
      "source": [
        "#for loop in a string \n",
        "for x in 'HAMSA':\n",
        "    print(x)"
      ],
      "metadata": {
        "colab": {
          "base_uri": "https://localhost:8080/"
        },
        "id": "-LRLXzAYj3DX",
        "outputId": "4d29f45a-244e-4c2f-8a4c-1ed6dfd19101"
      },
      "execution_count": null,
      "outputs": [
        {
          "output_type": "stream",
          "name": "stdout",
          "text": [
            "H\n",
            "A\n",
            "M\n",
            "S\n",
            "A\n"
          ]
        }
      ]
    },
    {
      "cell_type": "code",
      "source": [
        "#for loop in the list\n",
        "fruit=['cherry','banana','apple']\n",
        "for x in fruit:\n",
        "    print(x)"
      ],
      "metadata": {
        "colab": {
          "base_uri": "https://localhost:8080/"
        },
        "id": "XPuJK0yCkAsb",
        "outputId": "9938616e-a958-4fab-ad8a-ed617a41b8a9"
      },
      "execution_count": null,
      "outputs": [
        {
          "output_type": "stream",
          "name": "stdout",
          "text": [
            "cherry\n",
            "banana\n",
            "apple\n"
          ]
        }
      ]
    },
    {
      "cell_type": "code",
      "source": [
        "#for loop in the list with break statement\n",
        "fruit=['cherry','banana','apple']\n",
        "for x in fruit:\n",
        "    if x=='banana':\n",
        "        break\n",
        "    print(x)"
      ],
      "metadata": {
        "colab": {
          "base_uri": "https://localhost:8080/"
        },
        "id": "3nQZ1_tskJmy",
        "outputId": "228a7e8f-9857-4ff1-e6b5-499b21365e58"
      },
      "execution_count": null,
      "outputs": [
        {
          "output_type": "stream",
          "name": "stdout",
          "text": [
            "cherry\n"
          ]
        }
      ]
    },
    {
      "cell_type": "code",
      "source": [
        "#for loop in the list with Continue statement\n",
        "fruit=['cherry','banana','apple']\n",
        "for x in fruit:\n",
        "    if x=='banana':\n",
        "        continue\n",
        "    print(x)"
      ],
      "metadata": {
        "colab": {
          "base_uri": "https://localhost:8080/"
        },
        "id": "N2MpZQ59kPsX",
        "outputId": "c67132d6-53b8-4d78-ed87-a1b8fe319f68"
      },
      "execution_count": null,
      "outputs": [
        {
          "output_type": "stream",
          "name": "stdout",
          "text": [
            "cherry\n",
            "apple\n"
          ]
        }
      ]
    },
    {
      "cell_type": "code",
      "source": [
        " #pass statement\n",
        "fruit=['cherry','banana','apple']\n",
        "for x in fruit:\n",
        "    pass"
      ],
      "metadata": {
        "id": "NSmDhQrFkV72"
      },
      "execution_count": null,
      "outputs": []
    },
    {
      "cell_type": "code",
      "source": [
        " #range function\n",
        "for a in range(8):\n",
        "    print(a)"
      ],
      "metadata": {
        "colab": {
          "base_uri": "https://localhost:8080/"
        },
        "id": "FAeSXmCzkbJk",
        "outputId": "60b02824-290f-462e-fb83-9366e0bb8615"
      },
      "execution_count": null,
      "outputs": [
        {
          "output_type": "stream",
          "name": "stdout",
          "text": [
            "0\n",
            "1\n",
            "2\n",
            "3\n",
            "4\n",
            "5\n",
            "6\n",
            "7\n"
          ]
        }
      ]
    },
    {
      "cell_type": "code",
      "source": [
        "for a in range(2,20,4):\n",
        "    print(a)"
      ],
      "metadata": {
        "colab": {
          "base_uri": "https://localhost:8080/"
        },
        "id": "lvam0EM_kgsj",
        "outputId": "3954f958-2722-41f6-d5b8-49fc4c69151e"
      },
      "execution_count": null,
      "outputs": [
        {
          "output_type": "stream",
          "name": "stdout",
          "text": [
            "2\n",
            "6\n",
            "10\n",
            "14\n",
            "18\n"
          ]
        }
      ]
    },
    {
      "cell_type": "code",
      "source": [
        "# nested loop\n",
        "adj=['red','big','tasty']\n",
        "fruit=['apple','banana','cherry']\n",
        "for x in adj:\n",
        "    for y in fruit:\n",
        "        print(x,y)"
      ],
      "metadata": {
        "colab": {
          "base_uri": "https://localhost:8080/"
        },
        "id": "vhZTjwrWktcK",
        "outputId": "c3627995-816c-42c3-e2ef-06c2167d48e6"
      },
      "execution_count": null,
      "outputs": [
        {
          "output_type": "stream",
          "name": "stdout",
          "text": [
            "red apple\n",
            "red banana\n",
            "red cherry\n",
            "big apple\n",
            "big banana\n",
            "big cherry\n",
            "tasty apple\n",
            "tasty banana\n",
            "tasty cherry\n"
          ]
        }
      ]
    },
    {
      "cell_type": "code",
      "source": [
        "#Mathematical function in python\n",
        "import math\n",
        "x=34.42\n",
        "#ceil function\n",
        "ceil_x=math.ceil(x)\n",
        "print(\"ceil value of x is:\",ceil_x)\n",
        "\n",
        "#floor function\n",
        "floor_x=math.floor(x)\n",
        "print(\"floor value of x is:\",floor_x)\n",
        "\n",
        "#absolute function\n",
        "x1=-24\n",
        "abs_x1=math.fabs(x1)\n",
        "print(\"absolute value of x1\",abs_x1)\n",
        "\n",
        "#find GCD\n",
        "print(\"the GCD between 12 and 15:\",math.gcd(12,15))\n",
        "\n",
        "# find the non a number\n",
        "if(math.isnan(x1)):\n",
        "    print(\"x1 is not a number\")\n",
        "    \n",
        "else:\n",
        "    print(\"x1 is a number\")\n",
        "    \n",
        "# find the  infinity\n",
        "f1=float('inf')\n",
        "print(math.isinf(f1))\n",
        "\n",
        "print(math.isfinite(f1))"
      ],
      "metadata": {
        "colab": {
          "base_uri": "https://localhost:8080/"
        },
        "id": "uiWzyM6pk1A_",
        "outputId": "c6a605a9-1c2d-47a5-d086-1fcdb6e73efd"
      },
      "execution_count": null,
      "outputs": [
        {
          "output_type": "stream",
          "name": "stdout",
          "text": [
            "ceil value of x is: 35\n",
            "floor value of x is: 34\n",
            "absolute value of x1 24.0\n",
            "the GCD between 12 and 15: 3\n",
            "x1 is a number\n",
            "True\n",
            "False\n"
          ]
        }
      ]
    },
    {
      "cell_type": "code",
      "source": [
        "# log function\n",
        "print(\"power function\",math.pow(2,3))\n",
        "print(\"sqrt function\",math.sqrt(400))\n",
        "print(\"exp function\",math.exp(5))\n",
        "print(\"log function with base 5\",math.log(625,5))\n",
        "print(\"log function with base 10\",math.log(625,10))\n",
        "print(\"log function with base 2\",math.log(625,2))"
      ],
      "metadata": {
        "colab": {
          "base_uri": "https://localhost:8080/"
        },
        "id": "KEG13_BQk-3E",
        "outputId": "550a5d22-3f31-4a74-925d-b12bfc13c716"
      },
      "execution_count": null,
      "outputs": [
        {
          "output_type": "stream",
          "name": "stdout",
          "text": [
            "power function 8.0\n",
            "sqrt function 20.0\n",
            "exp function 148.4131591025766\n",
            "log function with base 5 4.0\n",
            "log function with base 10 2.795880017344075\n",
            "log function with base 2 9.287712379549449\n"
          ]
        }
      ]
    },
    {
      "cell_type": "code",
      "source": [
        "# Trigrnomatric function\n",
        "print(\"the value of tan 90 \", math.tan(math.pi/2))\n",
        "print(\"the vlaue of cos pi\",math.cos(math.pi))"
      ],
      "metadata": {
        "colab": {
          "base_uri": "https://localhost:8080/"
        },
        "id": "YhByPdU6lDyL",
        "outputId": "0007ac1a-082d-4825-9e1e-d2e23656e0a1"
      },
      "execution_count": null,
      "outputs": [
        {
          "output_type": "stream",
          "name": "stdout",
          "text": [
            "the value of tan 90  1.633123935319537e+16\n",
            "the vlaue of cos pi -1.0\n"
          ]
        }
      ]
    },
    {
      "cell_type": "code",
      "source": [
        "x='helloworld'\n",
        "print(len(x))"
      ],
      "metadata": {
        "colab": {
          "base_uri": "https://localhost:8080/"
        },
        "id": "L-kRauJHlICT",
        "outputId": "0a984db3-6198-419e-aef7-96c31e9103d9"
      },
      "execution_count": null,
      "outputs": [
        {
          "output_type": "stream",
          "name": "stdout",
          "text": [
            "10\n"
          ]
        }
      ]
    },
    {
      "cell_type": "code",
      "source": [
        "str2='Learn python'\n",
        "str2[-4:]"
      ],
      "metadata": {
        "colab": {
          "base_uri": "https://localhost:8080/",
          "height": 36
        },
        "id": "F7UZjNWplOEi",
        "outputId": "7e51f227-38d0-4387-8502-5a92c0a84994"
      },
      "execution_count": null,
      "outputs": [
        {
          "output_type": "execute_result",
          "data": {
            "text/plain": [
              "'thon'"
            ],
            "application/vnd.google.colaboratory.intrinsic+json": {
              "type": "string"
            }
          },
          "metadata": {},
          "execution_count": 21
        }
      ]
    },
    {
      "cell_type": "code",
      "source": [
        "#String methods\n",
        "str1=' hello world'\n",
        "print(\"update string:\",str1[:6]+'python')"
      ],
      "metadata": {
        "colab": {
          "base_uri": "https://localhost:8080/"
        },
        "id": "36FckQFslT-y",
        "outputId": "660a1883-e000-4837-9a99-e57bff308b4f"
      },
      "execution_count": null,
      "outputs": [
        {
          "output_type": "stream",
          "name": "stdout",
          "text": [
            "update string:  hellopython\n"
          ]
        }
      ]
    },
    {
      "cell_type": "code",
      "source": [
        "print('world' in str1)\n",
        "print('techno' not in str1)"
      ],
      "metadata": {
        "colab": {
          "base_uri": "https://localhost:8080/"
        },
        "id": "cZA9anWRlc5l",
        "outputId": "70f251bf-67fa-4daf-d80d-12968ab82c69"
      },
      "execution_count": null,
      "outputs": [
        {
          "output_type": "stream",
          "name": "stdout",
          "text": [
            "True\n",
            "True\n"
          ]
        }
      ]
    },
    {
      "cell_type": "code",
      "source": [
        "print(\"upper case:\",str1.upper())\n",
        "print(\"lower case:\",str1.lower())\n",
        "print(\"strip function:\", str1.strip())\n",
        "print(\"replace function\",str1.replace('e','r'))\n",
        "\n",
        "x1='learn,python'\n",
        "print(x1.split(\",\"))"
      ],
      "metadata": {
        "colab": {
          "base_uri": "https://localhost:8080/"
        },
        "id": "xAjqDjgQlhC7",
        "outputId": "44ef4f0b-73c8-4d77-de4a-f31beea2ecca"
      },
      "execution_count": null,
      "outputs": [
        {
          "output_type": "stream",
          "name": "stdout",
          "text": [
            "upper case:  HELLO WORLD\n",
            "lower case:  hello world\n",
            "strip function: hello world\n",
            "replace function  hrllo world\n",
            "['learn', 'python']\n"
          ]
        }
      ]
    },
    {
      "cell_type": "code",
      "source": [
        "# string format\n",
        "\"\"\"age=19\n",
        "txt=\"my name is john, I am\"+age\n",
        "print(txt)\"\"\"\n",
        "\n",
        "\n",
        "age=19\n",
        "txt=\"my name is john, I am{}\"\n",
        "print(txt.format(age))"
      ],
      "metadata": {
        "colab": {
          "base_uri": "https://localhost:8080/"
        },
        "id": "JflD_nUeloFf",
        "outputId": "346db74e-92cf-465e-f3c2-925bec51bdef"
      },
      "execution_count": null,
      "outputs": [
        {
          "output_type": "stream",
          "name": "stdout",
          "text": [
            "my name is john, I am19\n"
          ]
        }
      ]
    }
  ]
}
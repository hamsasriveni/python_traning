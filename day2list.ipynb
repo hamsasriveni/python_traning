{
  "nbformat": 4,
  "nbformat_minor": 0,
  "metadata": {
    "colab": {
      "name": "day2list.ipynb",
      "provenance": [],
      "collapsed_sections": [],
      "authorship_tag": "ABX9TyOH8X0cyi2/ZYtwUNg5SF38",
      "include_colab_link": true
    },
    "kernelspec": {
      "name": "python3",
      "display_name": "Python 3"
    },
    "language_info": {
      "name": "python"
    }
  },
  "cells": [
    {
      "cell_type": "markdown",
      "metadata": {
        "id": "view-in-github",
        "colab_type": "text"
      },
      "source": [
        "<a href=\"https://colab.research.google.com/github/hamsasriveni/python_traning/blob/main/day2list.ipynb\" target=\"_parent\"><img src=\"https://colab.research.google.com/assets/colab-badge.svg\" alt=\"Open In Colab\"/></a>"
      ]
    },
    {
      "cell_type": "code",
      "execution_count": null,
      "metadata": {
        "colab": {
          "base_uri": "https://localhost:8080/"
        },
        "id": "1gmATvlloDNE",
        "outputId": "c968d02d-d373-422c-9cb3-7eb58c5c0047"
      },
      "outputs": [
        {
          "output_type": "stream",
          "name": "stdout",
          "text": [
            "<class 'list'>\n",
            "['apple', 'banana', 'cherry']\n"
          ]
        }
      ],
      "source": [
        "#Creation of list using string type\n",
        "NewList=[\"apple\",\"banana\",\"cherry\"]\n",
        "print(type(NewList))\n",
        "print(NewList)"
      ]
    },
    {
      "cell_type": "code",
      "source": [
        "# access the element of list using index value\n",
        "NewList[2]"
      ],
      "metadata": {
        "colab": {
          "base_uri": "https://localhost:8080/",
          "height": 36
        },
        "id": "DGGQAK0RoUoc",
        "outputId": "85e1ff36-5455-4c3e-aadd-7bb7d11d0d3e"
      },
      "execution_count": null,
      "outputs": [
        {
          "output_type": "execute_result",
          "data": {
            "text/plain": [
              "'cherry'"
            ],
            "application/vnd.google.colaboratory.intrinsic+json": {
              "type": "string"
            }
          },
          "metadata": {},
          "execution_count": 2
        }
      ]
    },
    {
      "cell_type": "code",
      "source": [
        "#create list with multiple type\n",
        "List_with_differnt_type=[\"apple\",2,True,\"Tasty\",2.6]\n",
        "List_with_differnt_type\n",
        "print(type(List_with_differnt_type))"
      ],
      "metadata": {
        "colab": {
          "base_uri": "https://localhost:8080/"
        },
        "id": "DqaVAohJoZYh",
        "outputId": "1471db8e-7329-4847-d68e-6eaad0ead6cf"
      },
      "execution_count": null,
      "outputs": [
        {
          "output_type": "stream",
          "name": "stdout",
          "text": [
            "<class 'list'>\n"
          ]
        }
      ]
    },
    {
      "cell_type": "code",
      "source": [
        "# create using list constructor list()\n",
        "listConstruct=list((\"a\",\"b\",\"c\"))\n",
        "print(listConstruct)\n",
        "print(type(listConstruct))"
      ],
      "metadata": {
        "colab": {
          "base_uri": "https://localhost:8080/"
        },
        "id": "HHfpq2HWofhX",
        "outputId": "132c96ef-38f7-44fe-e5f4-f1b98d0055e1"
      },
      "execution_count": null,
      "outputs": [
        {
          "output_type": "stream",
          "name": "stdout",
          "text": [
            "['a', 'b', 'c']\n",
            "<class 'list'>\n"
          ]
        }
      ]
    },
    {
      "cell_type": "code",
      "source": [
        "#to extact 2, True and Tasty from List_with_differnt_type\n",
        "print(List_with_differnt_type[1:4])\n",
        "\n",
        "\n",
        "#to extact 2 and Tasty from List_with_differnt_type\n",
        "print(List_with_differnt_type[1:4:2])"
      ],
      "metadata": {
        "colab": {
          "base_uri": "https://localhost:8080/"
        },
        "id": "RTaHGGg2olwV",
        "outputId": "37fa7ab7-704e-4d1e-84b7-f690c8c652b0"
      },
      "execution_count": null,
      "outputs": [
        {
          "output_type": "stream",
          "name": "stdout",
          "text": [
            "[2, True, 'Tasty']\n",
            "[2, 'Tasty']\n"
          ]
        }
      ]
    },
    {
      "cell_type": "code",
      "source": [
        "# negative indexing\n",
        "List_with_differnt_type[-4:-1]"
      ],
      "metadata": {
        "colab": {
          "base_uri": "https://localhost:8080/"
        },
        "id": "dTAaq7hOoto2",
        "outputId": "adb37445-2be5-4ca7-c0a8-97f901be563b"
      },
      "execution_count": null,
      "outputs": [
        {
          "output_type": "execute_result",
          "data": {
            "text/plain": [
              "[2, True, 'Tasty']"
            ]
          },
          "metadata": {},
          "execution_count": 6
        }
      ]
    },
    {
      "cell_type": "code",
      "source": [
        "# some loop operation with list\n",
        "print(List_with_differnt_type)\n",
        "#for loop\n",
        "for i in List_with_differnt_type:\n",
        "    print(i)   \n",
        "#Range function \n",
        "for i in range(len(List_with_differnt_type)):\n",
        "    print(\"using range function:\",List_with_differnt_type[i])"
      ],
      "metadata": {
        "colab": {
          "base_uri": "https://localhost:8080/"
        },
        "id": "tnbdDAzaoxvf",
        "outputId": "7bffb92c-2f8c-4d64-a68c-1c016cf49b6e"
      },
      "execution_count": null,
      "outputs": [
        {
          "output_type": "stream",
          "name": "stdout",
          "text": [
            "['apple', 2, True, 'Tasty', 2.6]\n",
            "apple\n",
            "2\n",
            "True\n",
            "Tasty\n",
            "2.6\n",
            "using range function: apple\n",
            "using range function: 2\n",
            "using range function: True\n",
            "using range function: Tasty\n",
            "using range function: 2.6\n"
          ]
        }
      ]
    },
    {
      "cell_type": "code",
      "source": [
        "#Methods in List\n",
        "#Insert method\n",
        "NewList=[\"apple\",\"banana\",\"cherry\"]\n",
        "NewList.insert(2,\"litchi\")\n",
        "print(NewList)"
      ],
      "metadata": {
        "colab": {
          "base_uri": "https://localhost:8080/"
        },
        "id": "Gk6nJ644o6fv",
        "outputId": "c44c3a02-414f-4aee-a8fe-863d1e099b88"
      },
      "execution_count": null,
      "outputs": [
        {
          "output_type": "stream",
          "name": "stdout",
          "text": [
            "['apple', 'banana', 'litchi', 'cherry']\n"
          ]
        }
      ]
    },
    {
      "cell_type": "code",
      "source": [
        "#append method\n",
        "NewList.append(\"Mango\")\n",
        "print(NewList)"
      ],
      "metadata": {
        "colab": {
          "base_uri": "https://localhost:8080/"
        },
        "id": "XJI07-SIpIsn",
        "outputId": "3839ca5f-fc47-4134-d56a-1ab61c14ef86"
      },
      "execution_count": null,
      "outputs": [
        {
          "output_type": "stream",
          "name": "stdout",
          "text": [
            "['apple', 'banana', 'litchi', 'cherry', 'Mango']\n"
          ]
        }
      ]
    },
    {
      "cell_type": "code",
      "source": [
        "#Extend method: it can add any iterable like list tuple set dictionary\n",
        "#list1\n",
        "NewList=[\"apple\",\"banana\",\"cherry\"]\n",
        "print(NewList)\n",
        "#List 2\n",
        "print(List_with_differnt_type)\n",
        "# use concatenation\n",
        "#print(\"using concat :\", NewList+List_with_differnt_type)\n",
        "# extend method\n",
        "NewList.extend(List_with_differnt_type)\n",
        "print(NewList)"
      ],
      "metadata": {
        "colab": {
          "base_uri": "https://localhost:8080/"
        },
        "id": "bsV69pZjpORC",
        "outputId": "69658fa2-b919-4097-d7b0-86d4123bc76c"
      },
      "execution_count": null,
      "outputs": [
        {
          "output_type": "stream",
          "name": "stdout",
          "text": [
            "['apple', 'banana', 'cherry']\n",
            "['apple', 2, True, 'Tasty', 2.6]\n",
            "['apple', 'banana', 'cherry', 'apple', 2, True, 'Tasty', 2.6]\n"
          ]
        }
      ]
    },
    {
      "cell_type": "code",
      "source": [
        "print(NewList)\n",
        "print(List_with_differnt_type)"
      ],
      "metadata": {
        "colab": {
          "base_uri": "https://localhost:8080/"
        },
        "id": "OUm96HNZpWis",
        "outputId": "e21e27af-57da-457d-b4fe-c5f769eb8daf"
      },
      "execution_count": null,
      "outputs": [
        {
          "output_type": "stream",
          "name": "stdout",
          "text": [
            "['apple', 'banana', 'cherry', 'apple', 2, True, 'Tasty', 2.6]\n",
            "['apple', 2, True, 'Tasty', 2.6]\n"
          ]
        }
      ]
    },
    {
      "cell_type": "code",
      "source": [
        "#create a tuple of string type\n",
        "tuple_var=(\"car\",\"bike\")\n",
        "# list of int type\n",
        "list1=[\"1,2,3,4\"]\n",
        "# extend to add tuple into list\n",
        "list1.extend(tuple_var)\n",
        "print(list1)"
      ],
      "metadata": {
        "colab": {
          "base_uri": "https://localhost:8080/"
        },
        "id": "_joVVoZIpaQg",
        "outputId": "a411d375-eac7-49df-874d-1ccec0232c4f"
      },
      "execution_count": null,
      "outputs": [
        {
          "output_type": "stream",
          "name": "stdout",
          "text": [
            "['1,2,3,4', 'car', 'bike']\n"
          ]
        }
      ]
    },
    {
      "cell_type": "code",
      "source": [
        "#Remove\n",
        "list1.remove('car')\n",
        "list1"
      ],
      "metadata": {
        "colab": {
          "base_uri": "https://localhost:8080/"
        },
        "id": "vOAChEjipd_O",
        "outputId": "f913565c-9108-42ca-dc41-e74ecb0dee19"
      },
      "execution_count": null,
      "outputs": [
        {
          "output_type": "execute_result",
          "data": {
            "text/plain": [
              "['1,2,3,4', 'bike']"
            ]
          },
          "metadata": {},
          "execution_count": 14
        }
      ]
    },
    {
      "cell_type": "code",
      "source": [
        "#pop\n",
        "list1=[1,2,3,4]\n",
        "list1.pop()"
      ],
      "metadata": {
        "colab": {
          "base_uri": "https://localhost:8080/"
        },
        "id": "fc1-jkbdpkge",
        "outputId": "113b5050-0bbd-49b9-b1a2-a1b024e98100"
      },
      "execution_count": null,
      "outputs": [
        {
          "output_type": "execute_result",
          "data": {
            "text/plain": [
              "4"
            ]
          },
          "metadata": {},
          "execution_count": 15
        }
      ]
    },
    {
      "cell_type": "code",
      "source": [
        "#clear: it clear all the element from the list\n",
        "list1.clear()\n",
        "list1"
      ],
      "metadata": {
        "colab": {
          "base_uri": "https://localhost:8080/"
        },
        "id": "kJnH5yHJpsFA",
        "outputId": "c661c643-9ff6-4a5f-ebb1-44ec0be1d41d"
      },
      "execution_count": null,
      "outputs": [
        {
          "output_type": "execute_result",
          "data": {
            "text/plain": [
              "[]"
            ]
          },
          "metadata": {},
          "execution_count": 16
        }
      ]
    },
    {
      "cell_type": "code",
      "source": [
        " #copy: it help in copying the list elements into specified list\n",
        "NewList=[\"apple\",\"banana\",\"cherry\"]\n",
        "list1=NewList.copy()\n",
        "list1"
      ],
      "metadata": {
        "colab": {
          "base_uri": "https://localhost:8080/"
        },
        "id": "1hId5FCfpxo8",
        "outputId": "a38b8f0c-6990-469e-d90e-8a1e34559443"
      },
      "execution_count": null,
      "outputs": [
        {
          "output_type": "execute_result",
          "data": {
            "text/plain": [
              "['apple', 'banana', 'cherry']"
            ]
          },
          "metadata": {},
          "execution_count": 17
        }
      ]
    },
    {
      "cell_type": "code",
      "source": [
        "#count of occurance of any element in list\n",
        "list1.count('mango')\n",
        "\n",
        "#index method\n",
        "list1.index('cherry')"
      ],
      "metadata": {
        "colab": {
          "base_uri": "https://localhost:8080/"
        },
        "id": "HstNZAIep30I",
        "outputId": "50eba47b-a9e3-47df-d5b3-546f217f2e3a"
      },
      "execution_count": null,
      "outputs": [
        {
          "output_type": "execute_result",
          "data": {
            "text/plain": [
              "2"
            ]
          },
          "metadata": {},
          "execution_count": 18
        }
      ]
    },
    {
      "cell_type": "code",
      "source": [
        "#sort  and reverse\n",
        "list1.sort()\n",
        "list1"
      ],
      "metadata": {
        "colab": {
          "base_uri": "https://localhost:8080/"
        },
        "id": "BLKgc9sJp-kk",
        "outputId": "d8879acc-3509-4d88-fcd1-3dd1fb278210"
      },
      "execution_count": null,
      "outputs": [
        {
          "output_type": "execute_result",
          "data": {
            "text/plain": [
              "['apple', 'banana', 'cherry']"
            ]
          },
          "metadata": {},
          "execution_count": 23
        }
      ]
    },
    {
      "cell_type": "code",
      "source": [
        "list1.reverse()\n",
        "list1"
      ],
      "metadata": {
        "colab": {
          "base_uri": "https://localhost:8080/"
        },
        "id": "6XAgvZ7QqLLb",
        "outputId": "a5709d20-80e9-4cf3-a30f-030d4dea78ab"
      },
      "execution_count": null,
      "outputs": [
        {
          "output_type": "execute_result",
          "data": {
            "text/plain": [
              "['cherry', 'banana', 'apple']"
            ]
          },
          "metadata": {},
          "execution_count": 24
        }
      ]
    }
  ]
}